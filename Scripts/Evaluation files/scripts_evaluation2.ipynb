{
 "cells": [
  {
   "cell_type": "code",
   "execution_count": 1,
   "metadata": {},
   "outputs": [],
   "source": [
    "import os\n",
    "import scripts_evaluation2\n",
    "from datetime import date\n",
    "from dotenv import load_dotenv\n",
    "import openai\n",
    "\n",
    "load_dotenv(r'..\\api_key.env')\n",
    "openai.api_key = os.getenv('OPENAI_API_KEY')"
   ]
  },
  {
   "cell_type": "code",
   "execution_count": null,
   "metadata": {},
   "outputs": [
    {
     "name": "stdout",
     "output_type": "stream",
     "text": [
      "22\n",
      "32\n",
      "45\n",
      "48\n",
      "51\n",
      "72\n",
      "78\n",
      "91\n",
      "98\n",
      "99\n"
     ]
    }
   ],
   "source": [
    "jobProfile_fileName = 'softwareEngineer'\n",
    "layer1_folderPath = fr'evaluation_files_{jobProfile_fileName}\\Selected'\n",
    "jobProfile_environment_filePath = fr'Environment Variables\\{jobProfile_fileName}_environmentVar.txt'\n",
    "\n",
    "\n",
    "# Read environment file\n",
    "with open(jobProfile_environment_filePath, 'r', encoding='utf-8') as file:\n",
    "    jobProfile_environment = file.read()\n",
    "    # print(jobProfile_environment)\n",
    "\n",
    "for filename in os.listdir(layer1_folderPath):\n",
    "    folder_path = 'evaluation_files_itProjectManager'\n",
    "\n",
    "    if filename.endswith(\".txt\"):\n",
    "        file_path = os.path.join(layer1_folderPath, filename)\n",
    "        file_id = int(file_path.split('_')[-2])\n",
    "        print(file_id)\n",
    "        \n",
    "        with open(file_path, 'r', encoding='utf-8') as file:\n",
    "            layer1_output = file.read()\n",
    "            # print(f\"Content of {filename}:\\n{layer1_output}\\n\")\n",
    "\n",
    "            prompt_layer2 = scripts_evaluation2.getGPTPrompt2(layer1_output, jobProfile_environment)\n",
    "            # print(f\"Layer 2 Prompt:\\n{prompt_layer2}\\n\")\n",
    "            with open(fr'{folder_path}\\Layer 2\\check_prompts\\{date.today()}_chatGPToutput_{file_id}_layer1.txt', 'w') as file:\n",
    "                file.write(prompt_layer2)\n",
    "\n",
    "\n",
    "            chatGPT_output = scripts_evaluation2.chat_with_gpt(prompt_layer2)\n",
    "            with open(fr'{folder_path}\\Layer 2\\{date.today()}_chatGPToutput_{file_id}_layer2.txt', 'w') as file:\n",
    "                 file.write(chatGPT_output)"
   ]
  },
  {
   "cell_type": "code",
   "execution_count": null,
   "metadata": {},
   "outputs": [],
   "source": []
  }
 ],
 "metadata": {
  "kernelspec": {
   "display_name": "NUS_Internal_Capstone",
   "language": "python",
   "name": "python3"
  },
  "language_info": {
   "codemirror_mode": {
    "name": "ipython",
    "version": 3
   },
   "file_extension": ".py",
   "mimetype": "text/x-python",
   "name": "python",
   "nbconvert_exporter": "python",
   "pygments_lexer": "ipython3",
   "version": "3.11.9"
  }
 },
 "nbformat": 4,
 "nbformat_minor": 2
}
