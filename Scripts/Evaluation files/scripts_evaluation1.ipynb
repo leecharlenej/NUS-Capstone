{
 "cells": [
  {
   "cell_type": "code",
   "execution_count": 1,
   "metadata": {},
   "outputs": [],
   "source": [
    "from datetime import date\n",
    "import scripts_evaluation1\n",
    "from dotenv import load_dotenv\n",
    "import os\n",
    "import openai\n",
    "\n",
    "load_dotenv(r'..\\api_key.env')\n",
    "openai.api_key = os.getenv('OPENAI_API_KEY')"
   ]
  },
  {
   "cell_type": "markdown",
   "metadata": {},
   "source": [
    "Layer 1 Prompt: Loop"
   ]
  },
  {
   "cell_type": "code",
   "execution_count": 6,
   "metadata": {},
   "outputs": [],
   "source": [
    "schedule_num = 100\n",
    "file_path = r'Task Examples\\tasksExamples_itHRAdministrator.txt'\n",
    "jobProfile = \"it hr administrator\"\n",
    "folder_path = 'evaluation_files_itHRAdministrator'\n",
    "\n",
    "for i in range(schedule_num):\n",
    "    jobProfile_taskExamples = scripts_evaluation1.getRandomTaskExamples(file_path,5)\n",
    "    # print(jobProfile_taskExamples)\n",
    "\n",
    "    pastOutputs = scripts_evaluation1.readPastGPTOutputs(fr'{folder_path}\\Layer 1')\n",
    "    \n",
    "    prompt_layer1 = scripts_evaluation1.getGPTPrompt(jobProfile, pastOutputs, jobProfile_taskExamples)\n",
    "    # print(prompt_layer1)\n",
    "    with open(fr'{folder_path}\\Layer 1\\check_prompts\\{date.today()}_chatGPToutput_{i}_layer1.txt', 'w') as file:\n",
    "        file.write(prompt_layer1)\n",
    "\n",
    "    chatGPT_output = scripts_evaluation1.chat_with_gpt(prompt_layer1)\n",
    "    with open(fr'{folder_path}\\Layer 1\\{date.today()}_chatGPToutput_{i}_layer1.txt', 'w') as file:\n",
    "        file.write(chatGPT_output)"
   ]
  },
  {
   "cell_type": "markdown",
   "metadata": {},
   "source": [
    "Randomly select 10 schedules to evaluate."
   ]
  },
  {
   "cell_type": "code",
   "execution_count": 3,
   "metadata": {},
   "outputs": [
    {
     "name": "stdout",
     "output_type": "stream",
     "text": [
      "10 Random Numbers: [22, 32, 45, 48, 51, 72, 78, 91, 98, 99]\n"
     ]
    }
   ],
   "source": [
    "import random\n",
    "\n",
    "random_numbers = [random.randint(0, 99) for _ in range(10)]\n",
    "random_numbers.sort()\n",
    "\n",
    "print(\"10 Random Numbers:\", random_numbers)"
   ]
  },
  {
   "cell_type": "code",
   "execution_count": null,
   "metadata": {},
   "outputs": [],
   "source": []
  }
 ],
 "metadata": {
  "kernelspec": {
   "display_name": "NUS_Internal_Capstone",
   "language": "python",
   "name": "python3"
  },
  "language_info": {
   "codemirror_mode": {
    "name": "ipython",
    "version": 3
   },
   "file_extension": ".py",
   "mimetype": "text/x-python",
   "name": "python",
   "nbconvert_exporter": "python",
   "pygments_lexer": "ipython3",
   "version": "3.11.9"
  }
 },
 "nbformat": 4,
 "nbformat_minor": 2
}
